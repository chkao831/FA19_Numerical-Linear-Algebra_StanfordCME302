{
 "cells": [
  {
   "cell_type": "markdown",
   "metadata": {},
   "source": [
    "## Forward Error in QR"
   ]
  },
  {
   "cell_type": "code",
   "execution_count": 0,
   "metadata": {
    "colab": {},
    "colab_type": "code",
    "id": "fiBSbqcCSMob",
    "outputId": "695ea341-028c-4aef-90e2-0bd3aaeac76c"
   },
   "outputs": [
    {
     "name": "stdout",
     "output_type": "stream",
     "text": [
      "Size of matrix 128\n"
     ]
    }
   ],
   "source": [
    "n = 128\n",
    "println(\"Size of matrix \", n)\n",
    "\n",
    "# Initialize the matrix\n",
    "Qe, Re = qr(rand(n,n))\n",
    "# Qe is orthogonal, Re is upper triangular\n",
    "for i = 1 : n\n",
    "    # Multiply row i by 1/2^i\n",
    "    Re[i,:] = 1.0/2.0^(i-1) * Re[i,:]\n",
    "end\n",
    "\n",
    "# A = Qe * Re\n",
    "A = Qe * Re\n",
    "# Compute QR factorization of A\n",
    "Q, R = qr(A)\n",
    "\n",
    "# Fix possible differences in the sign of the diagonal entries of R\n",
    "for i = 1 : n\n",
    "    if R[i,i] * Re[i,i] < 0\n",
    "        R[i,:] = -R[i,:]\n",
    "        Q[:,i] = -Q[:,i]\n",
    "    end\n",
    "end\n",
    "\n",
    "# We now expect that Q=Qe and R=Re.\n",
    "\n",
    "# Calculate the error in Q\n",
    "err = zeros(n)\n",
    "for j = 1 : n\n",
    "    # Processing column j\n",
    "    err[j] = norm(Q[:,j] - Qe[:,j])\n",
    "end"
   ]
  },
  {
   "cell_type": "markdown",
   "metadata": {
    "colab_type": "text",
    "id": "KCnvLQrhSRKb"
   },
   "source": []
  },
  {
   "cell_type": "code",
   "execution_count": 0,
   "metadata": {
    "colab": {},
    "colab_type": "code",
    "id": "25fv5ej0SMoo",
    "outputId": "b94d823a-0892-4b4e-e43f-8bfcf4d5350a"
   },
   "outputs": [
    {
     "data": {
      "text/plain": [
       "Plots.PyPlotBackend()"
      ]
     },
     "execution_count": 2,
     "metadata": {
      "tags": []
     },
     "output_type": "execute_result"
    }
   ],
   "source": [
    "using Plots\n",
    "pyplot()"
   ]
  },
  {
   "cell_type": "code",
   "execution_count": 0,
   "metadata": {
    "colab": {},
    "colab_type": "code",
    "id": "i9KotnCGSMoy",
    "outputId": "5548c506-7185-4307-8f4c-e8d62e32eb9b"
   },
   "outputs": [
    {
     "data": {
      "text/html": [
       "<img src=\"data:image/png;base64,iVBORw0KGgoAAAANSUhEUgAAAlgAAAGQCAYAAAByNR6YAAAABHNCSVQICAgIfAhkiAAAAAlwSFlzAAAPYQAAD2EBqD+naQAAADl0RVh0U29mdHdhcmUAbWF0cGxvdGxpYiB2ZXJzaW9uIDIuMS4wLCBodHRwOi8vbWF0cGxvdGxpYi5vcmcvpW3flQAAIABJREFUeJzs3Xl4VNX9x/HPnZkshOxAIJCERQwQQRCMW2URESy4taC2thWsFWyjtFoLLlW7uFBbUepvqqkLVLHUKi4orYIKAoI2CLgQ2Zck7JANAllm7vn9MRIJYWeS2d6v58kDmeXON3PmzvnMOWfutYwxRgAAAPAbR6ALAAAACDcELAAAAD+LmIBljFFlZaWYEQUAAE3NFegC/OX222/XihUr9N3vflf33ntvo+v37t2rpKQkVVRUKDExMQAV4mgqKiqUlJQU6DJwHCfTTitLjT7abivGYSnGKcU6pWinVGd/+1PtlYr2Ga2vNNqwV9pQaWQkpcZIKTGWUqKllBgpNcZSSoyUEi3FR1mqs41qbanWK9mSspMs9U611CVRcliWJKnWa7SuUlpVbuQ1Ula8lBVvqW0L3+N+uMXoP8VG/ym2tXlf4/odlhTjkGK+qbtNrNQp3lKnBEudEqQeyZYGtLOUEG01um+N12j5bqMlO42W7DBavNNoS1Xjx2gVIw3pYGlohkOXdbCUGiPN3WL01mZb7xQZ7a723c5pSWktpPQ4KSXaUmK0lBglJURZauGSXA7JZfn+La+q0W5PtEqqpC37jfZU+/6GOJfvJ9ZpqdY22u+RDnh8z0V6nNQzxVLPVEs9U3zPdWmN72dPtVGdLbWPs5TRUspoaalDS9+2LKvx315nG+08IO04IO04cPD/RtVeX/ulxvr+zjiXtKda2nnAaGe16utMiPL9tIyytPOA0apyo9UV0upyo8q6Y7/mLElnp0oD0h0a0M5S/3aW2sY1rlGSdh0w+mSn0d466bIOltq0aHi7on1Gz3xt65/rbMU6pcx4S5ktD/5rKSteymxpKTPe95o81H6P0ZwSozc22Zq12ai8VmrXQrqpm0M3d3PojESrwb5UVmO064C0t07aW+eraV2lbxsfbTM64PW1r8f4nptL2lsa2M5ScZW0eIfR8j2+NjooNUY6M8lSq5iG2zzYjofWnnXw33hLbWKP3KaHM8Zo+R7p7c223i0xWrHH176WpMx4qWifr85rO1sane1QlwRLW/cbbd0vbd1vFO2wNKSDb186fLvrKqWF24027TUqqTIqrpK2VBklRPn2784Jlrok+F6jh76X7Kk2+qLU9/N1uRo8H4dLipZax0peW9pVLVV5Gl7froXUNdGS1+vRkt1OtW0h3dLdoZuyHVpf+e37xpoK3+27J0vfaWvp4nYOjcluOGZlhcMi96VLl+rll1/WE088oVGjRsntdqtt27YNblNZWUnAClKlpaVKTU0NdBk4jhNpp817jR74zKuX1hpZlmQf592lQ0vpjIRv3zydllRW4+t0Smukslrf/8u+6fCrPFK0wxd6oh2Ske/2khQfJZ2VYqm8xvdG7T3CY0d/8/5Xa0udE6QRmQ5d0t5SlEOq8Uo13wS3Gq8vxNV4fT87Dkib9hlt3me0aa+v43JZ0nlpli5tb6lHsqVle4wW7zD6bLdRjdcXKnPbWLowzdIFaZaSY77dXrVXWllm9F6JUcEuX7CMcvg6hh7J0tUdHbq0g6X9HmnbfqNt+6Xt+6XyWl/QqKyVKmp9j+Mxksf2/euSrawEpzJaSh1aWmod63u8Ax75QpXXKMZpqYVTauHy1Vi8T/qqzOirMqOK2obPV0KUL7gdfI4PfR5TYqTkaCkp2tLeOqMdB3xtdLjkaN/jlNX6ajmU0/KF11axvufdFwh87ZwaI3VPttQtSeqWZCkr3vccHnzMGKfvthW1RpW10vYD0pIdthZsN1pf6dt+aozUMV7qGG+pY4KlPdW+4HvweskXDC5sa+nKLEvdky39Y42tWUVG8S7pR10dinVKRVVGxfuk4iqj7ft9r7uDYpy+tjv4U1nra9+zUqTvd3LoO20tvV1kNH2drYpa6ZJ0Sy2sWm2pjtKmfWr0nB/c5oB2loZmWBrawaGcFGnZbqO5W3w/i3cYZbSULmrre31d2NYhhyWtrTBaU2G0tsIX7BKipMRoSwlRvud6yzehpXifUVFVw/aIcfpCvy/A+4J8QpQvzCdGW0qMkvbUSO8U2Sqp8gWVyzN8r+1+rS31aeX7wLG+0ujFtbZeXGNr02EfXlyW70ORbaTsJGlYhkM9Uywt3mHrw62+2ixJ7b8J8xktpQ5xvtfXhr3Sxr2+djh8127pknqlWjo71VLvVr4PQDFO6WC6sY3ved5d4wvXu6p9r+vWMVKbFr5wmR5n6YzEbwNzaWmptlsp+luhrX+stbXvm4Cf0VIanunQ5RmW9nulj7cbLdph66tSyb4lqkFdYRGw3G63srKydOWVV+qpp57SGWecoeHDhze4DQEreBGwQsOx2mnXAaOHV9h6utBWSoz0QF+HftbNIZfj21BRa/veYKMP6ZAcJ/CJ+VDGmEafsnfsN/q81OjzPb6QkBxtqUey1CPFF3yiHNLmfb5Ric17fWFmaIZD3ZJO7BP7kWpYXym9v8XWB1uNPtzqC4NZ8dKFaZav02vrG1WLdh5/+6XVvm1s2290eaZDZyadfE312zqNfckYo5IqX2hpFSOlxkpRDl8tBzy+UbiSKqMt+78NveW1UnmNUUK0b3SwbYuD//r+n9ZCijnkOTjg8T1XVXW+UJUSc+TXgG3MSb82DrW1ymjRdqN1lUab90mbvwnHiVG+trngm9Ab65RmFxm9XWRr7hbfyF7PFOm2sxz6UVdHo9EpyTc6uqXKF7aKq3ztV/dNwK2zfaNzwzMd6pbceGTrtQ2+oOX11OnMlGh1TvB9sGgX5xuRPDiClxKjY752vLaR03Hqz4/ka+/d1VJxlW/fKN5nVFbrC4iVdb6w7fu/VPlNsI9xSMOzHLoqy1L/dKv+9XEktvGN4FbUSu1bWmof5xs5qqyVPtxq9G6JrfdKjIr2Sb1TpcHtfR8q+rezlHiEkeGDar1G++pO733kRBy6L1XWGr1bbNQjxVLPlCO/b1TUGiUdVnfQBazx48dr1qxZ2rx5s5YvX64+ffrUX7d27VqNHj1au3fvVlJSkqZNm6azzjpLDz/8sC6++GINHDhQ06ZNU3R0tG644YYG2yVgBS8CVmg4UjvtrTWa/KWtv3xpyyFpQm+HftXToZZH6JjClW18oaF1bOD/ZvalU1ftMdq0T6ccvE8G7eRjjC/UBuP7hT/aKOjWYI0aNUoTJkzQxRdf3Oi6cePGaezYsRozZoxee+01jRkzRgUFBUpOTlZlpW/Md+/evTrjjDOOuv2DtzsoJiZGMTEx/v0jgDBX4zXK/9rWQ8ttVdZJt+U4dE8fh1oFQchobg7LNxWH0BbrstQ9OdBVhKfa2lpt3rxZXq/3+DcOEuXl5UpObviCcDgcSk9PV0JCwgltI+gC1oABA454+c6dO7V06VLNmTNHkjRy5EjddtttWrdunc477zzNmDFDV155pRYsWKDrrruu/n5ut1tut7u+YTMzMxtsd8KECZo4cWIT/TU4EWVlZYEuASegrKxM+z3Sy5ui5F4brS37Lf2wU50m9KhVRpyR9kul+wNdZWRjXwoNkdROW7Zs0bhx41RdXR3oUk6KbdtyOBofaMEYo+HDh+uOO+5odP3hI15BF7COpri4WOnp6XK5fCVblqWsrCwVFRVp8ODBmjZtmvr3769hw4Y1WOCel5envLy8+inC4uLiBlOEjGAFB4bLg1tptdHzX0fr2cUxKq2RftDF0n3nOJWTEi2pZaDLwyHYl0JDJLSTbdu6++671bp1a/3hD39QbGzoDPV6PJ76vHFQXV2dli9frqeeekpxcXG67777jrmNkAlYx+N2u0/odomJiazBAk7C6nKj8970qNYbrZu7O/TrXg51Toy8qUAAJ2f37t1atmyZHn744QbrqUPBkQKWJPXq1UuS9Ne//lXjx48/5nRhyASszMxMbdu2rf6PNsaoqKhIWVlZgS4NCGt/XO5VUrQ0Z1CVurdPCXQ5AEJEeXm5JCkjIyPAlfjXOeecI0natm3bMQNWyBzJPS0tTX379tX06dMlSTNnzlRGRoa6du0a4MqA8LWm3GjGeqO7+ziUFhtUXzgGEORs23fET6fTGeBK/Csqyne8q4N/39EEXcAaN26cMjIyVFJSomHDhjUIUPn5+crPz1d2drYmTZqkqVOnBrBSIPw9ssKrdi2kn2YH3VsFAPjNpk2bNGjQICUlJfltOjPopgjz8/OPel23bt20ZMmSZqwGiFzrK42mrzOafIFDsS5LfEEQQLhKTEzUQw89pIqKiuMuXj9RfCwFcESPrvCqdazvPFwAEA7+8pe/aOzYsfW/l5eXq3Xr1pKkiy++WC1b+u9b0UE3ggUg8DbtNfrHGqM/nedQCxffGATgHxsqfedJbArJ0VKX43zD+Wc/+5mys7P12GOPKTk5WVOnTtXVV1/dJIfNIGABaGTSCt85Bcf1YPQKgH/srjY689+e454E/lQ5LWn7j13HPG1VcnKyRo0apRdeeEF33HGHnn76ab3yyitNUg8BC0ADxfuMXlhj66FzI+ucggCaVutYS2uvczXpCNaJnBN0/Pjxuuqqq9SjRw+1adOm/rAL/kbAAlDPYxuN+cirlBjp54xeAfCz403hNYfu3burS5cuGjt2rB577LEmexzeQQHUm/g/Wx9tM3plsFMJ0YF/IwSApnDLLbfI4/Fo1KhRkqT9+/crIyND1157rQoLC9WpUyfdc889p/UYjGABkCRNX2tr8pe2plzo0KD2fPYCEL7mzZunX/ziF/UHDY2Li1NJSUn99Uc7Vc7JIGAB0LLdRrcs9Gr0mZZuP4twBSA8bd26VYMHD1Zqaqree++9Jn0sAhYQ4XYdMPreXI96plh65mKnLIupQQDhqX379lq1alWzPBYfVYEId8tCrw54pNcvcyqWY14BgF8wggVEsDkltt7abPTvS53KjCdcAfAfh8M3hlNXVxfgSvyrurpako67RouABUSoOtvojiVeDWhnaVRnwhUA/2rfvr2io6P17LPP6pZbbqlfUB4KjrTI3ev1qqSkRP/3f/+nuLg4ZWVlHXMbBCwgQj1TaOvrcumz77HuCoD/xcfHa/Lkybrzzju1ePHiQJdzUmzbrh+BO1y/fv30zDPPKDo6+pjbIGABEWh3tdEDn9n6WXdL57QmXAFoGhdccIHmzJmjrVu3yrbtQJdzwsrLy5WcnNzgMofDoZSUFLVq1eqo4etQBCwgAj34mS3bSA+d6wx0KQDCXHx8vLKzswNdxkkpLS097RNAh/23CN1ut3JycpSbmxvoUoCg8GWp0TNf23qwr0NpLRi9AoCmEPYBKy8vT4WFhSooKAh0KUBQuPMTr7omSrdxQFEAaDJMEQIRZP5WW+9vMXrjMqeinYxeAUBT4SMsECGMMXrwM1t9W0tXdyRcAUBTYgQLiBDzthot2G40ayiHZQCApsYIFhABjPEdluHc1pauyCJcAUBTYwQLiADvbzH6eIfR7GGMXgFAc2AECwhzB0evzk+z9N1MwhUANAdGsIAw916J0Sc7jd69nNErAGgujGABYezgNwcvTLM0NINwBQDNhREsIIzN2mz0v11Gc4czegUAzYkRLCBMeWyjewq8GtLB0pAO7OoA0JwYwQLC1D/WGH1dLr00iBM6A0Bz42MtEIYOeIweXObV9V0s9WvD1CAANDcCFhCGnlppa8d+6aFzGb0CgEAgYAFhpqzG6NEVtsb2cKhrEqNXABAIBCwgzExaYavOlu4/h90bAAKFd2AgjGysNPrrSlu/PtuhdnGMXgFAoBCwgDCxsdJo8GyP0uOkX/di1waAQOJdGAgD6yqMBr7jkcshfXSFS4nRjF4BQCARsIAQt6rcaMA7HrWM8oWrzHjCFQAEGgELCGFfl/lGrlrFSPNHuNS+JeEKAIJB2Acst9utnJwc5ebmBroUwO/GL/EqJVqad4VLbVnUDgBBI+wDVl5engoLC1VQUBDoUgC/Wr7b6P0tRr/v51TrWMIVAASTsA9YQLj68xdedU6QRnYmXAFAsCFgASFo016jf28wurOXQy4HAQsAgg0BCwhBT3xpKzlauimbXRgAghHvzkCIKa02em61rbyzHGoZxegVAAQjAhYQYp7+2pZtpNty2H0BIFjxDg2EkGqP71yDN2U71KYFo1cAEKwIWEAIeXGt0a4D0p2caxAAghrv0kCIqPYYPbrCq5GdLXVNYvQKAIKZK9AFADgxU76yVVIlvftdZ6BLAQAcByNYQAjYsd/o4RW2fpHjULdkRq8AINgRsIAQ8MBntlwO6cG+7LIAEAqYIgSC3JelvuNeTb7AoVTOOQgAIYGPw0AQM8bozk+86poo/YLjXgFAyGAECwhis4uM3t9iNGuoU1GccxAAQgYfiYEgVe0x+vWnXl3a3tIVWYQrAAgljGABQereAlub90mvD3HKsghYABBKCFhAEPpgi60nvvItbD8rlXAFAKGGKUIgyJTVGI3+yDc1+Mue7KIAEIp49waCzC8+9qqqTpo20CkHU4MAEJKYIgSCyD/X2frXeqMZg53KiCdcAUCoYgQLCBJbqox+8bFXPzzD0g/OYNcEgFAW9u/ibrdbOTk5ys3NDXQpwDHd/T+voh2S+zuczBkAQl3YB6y8vDwVFhaqoKAg0KUAR/XJDlvT1xk9nOtUSgxTgwAQ6sI+YAHBzhijX31iq3eq9NNswhUAhAMWuQMB9s/1Rp/uNJo3wiknp8MBgLDACBYQQFV1RhP/59X3O1ka1J7dEQDCBe/oQAA99oWtXQekP5/PwnYACCcELCBAivYZPfa5rTt7OdQlkalBAAgnBCwgAHYeMBrxrketYqV7+7AbAkC4YZE70Mx27DcaPNuj0hpp3hUuJUQzegUA4YaABTSj7d+Eq/Jaaf4VLnVLJlwBQDgiYAHNZNs34aqyVpo/wqVswhUAhC0WfwDNYPEOW+e/6dHeOt/IFeEKAMIbAQtoQrYx+vPnXg1426vMeEtLrnLpzCTCFQCEO6YIgSayp9po9HyvZhcbTezt0B/PdSiKI7UDQEQgYAFNwBijS2Z7tLVKmj3MqeFZDBYDQCQhYAFN4H+7jL4sld4f7tSlHQhXABBpeOcHmsC/1hulx0mD0pkSBIBIRMAC/MxrG72ywdZ1XRxysuYKACISAQvws4Xbjbbtl37QhXAFAJGKgAX42b/WG3WMl85PI2ABQKQiYAF+VGcbvbbR1g/OcMiyCFgAEKkIWIAfvb/FaE+N9IMz2LUAIJKFfS/gdruVk5Oj3NzcQJeCCPCv9ba6J0u9UwNdCQAgkMI+YOXl5amwsFAFBQWBLgVhrtpj9MYmox90YXoQACJd2AcsoLn8t9hob510PdODABDx6AkAP5mx3lafVlL3ZEavACDSEbAAP9hba/ROkW96EAAAegPAD2ZuMjrg5duDAAAfegPAD/6xxtYl6ZY6JjA9CAAgYAGnbdNeo/nbjEZnszsBAHzoEYDT9NJaWy1d0sjOjF4BAHwIWMBpMMboxbW2Rna2FB9FwAIA+BCwgNOwZKfRukpp9JnsSgCAb9ErAKfhH2uMsuKlQe0ZvQIAfIuABZyA/R6jnQdMg8sOeIxe2WDrJ10dcnBqHADAIQhYwAm4/WOvOs7w6IkvvbKNL2jN2mxUUSvdyPQgAOAw9AzAcVTVGb2ywSg7SbrzE1uDZ3u1sdLoH2ttXZhmKZtT4wAADuMKdAFAsHtjk1GVR3rzMpc27TO66SOvzn7do/0e6W/f4TMKAKAxegfgOF5ca6t/O0udEy1d0t6hL0a6dH0XS+lx0nWcexAAcARh0Tts2rRJ6enpGjRokG688cZAl4MwsqXK6IOtpsE6q8RoS88NcKn4hy6lxDA9CABoLGymCEeMGKHnnnsu0GUgzPxzna0ohzTqCEdpt/jmIADgKMJiBEuS3nvvPfXv318vv/xyoEtBmDh4lParO1pKZqQKAHASAhawxo8fr06dOsmyLK1YsaLBdWvXrtVFF12k7Oxs5ebmauXKlcfcVnp6ulavXq05c+YoPz9fe/bsacrSESE+L5W+KpN+0jVsPocAAJpJwHqOUaNGadGiRerYsWOj68aNG6exY8dqzZo1mjhxosaMGSNJKiws1KBBgxr8TJo0STExMYqLi1OLFi3Uv39/rV+//qiPW1lZ2eCnpqamqf5EhLiX1tpqEysNy2T0CgBwcixjjDn+zZpOp06d9Oabb6pPnz6SpJ07d6pr164qLS2Vy+WSMUbp6elatGiRunbtesRt7Nu3T/Hx8TLG6PLLL9e0adOUnp4uSXK73XK73fJ6vVqzZk2j+06YMEETJ05suj8Qx1VWVqaUlJRAl9GAx5Z6/aelrsnw6NE+hHApONsJDdFGoYF2Cn6n0kapqakNfg+6Re7FxcVKT0+Xy+UrzbIsZWVlqaio6KgBa/Hixbr33nsVFRWlUaNG1YcrScrLy1NeXp4qKyuVlJSk4uJiJSYm1l8fExOjmJiYpv2jcFyHvzAD7b/FtnbWeDW2V5xSU1sGupygEWzthMZoo9BAOwW/022joAtYp2Lo0KEaOnToCd02MTGxQcACjuSltbZ6JEt9Wwe6EgBAKAq61buZmZnatm2bPB6PJN83uYqKipSVlRXgyhApdlcbzdxoNCbbwaEYAACnJOgCVlpamvr27avp06dLkmbOnKmMjIyjTg8C/jZ1tS3Lkn7aLeh2DwBAiAhYDzJu3DhlZGSopKREw4YNaxCg8vPzlZ+fr+zsbE2aNElTp04NVJmIMLYxyl9l69rOllrHMnoFADg1AVuDlZ+ff9TrunXrpiVLljRjNYDP3BKj9ZXSi4MYvQIAnDp6EeAQf/va1tmp0oVpjF4BAE4dAQv4RtE+o3eKjH6Rw+J2AMDpIWAB33h2la2WLulHnBoHAHCa6EkASXW20XOrbP3kTIfioxi9AgCcHgIWIOnNTUbbD0g/78EuAQA4ffQmiHi2MXIX2urfzlLPVEavAACnj4CFiLZ0l60L3/Lqo21Gd/ZidwAA+Ac9CiLS7mqjsQs9Ou9Nr2q8RouudOqaTuwOAAD/CIuTPQMn48tSo0HveOQ10l8vcujWHg65HEwNAgD8h4CFiOK1jW5Z6FXbFtL8K1xKa0GwAgD4HwELEeWZr219utNo4ZVOwhUAoMmw6AQRY2uV0T0FtsZ2d+jidrz0AQBNh14GEWP8Eq/iXNKk83jZAwCaFlOEiAhvb7Y1c6PRjMFOpcQwNQgAaFp8lEfY21dnlPexV5dnWLq+C+EKAND0CFgIe4+usLW7Wvrbd5yyLAIWAKDphX3AcrvdysnJUW5ubqBLQQDsPGD05Fe2ftXLoc6JhCsAQPMI+4CVl5enwsJCFRQUBLoUBMCfPrflsqS7OA0OAKAZ0esgbG2pMvpboa1fn+1QaiyjVwCA5kPAQth6ZIWtOJf0q568zAEAzYueB2Fp016jZ1fZmtjbocRoRq8AAM2rwXGwdu/ereeff17z589XSUmJLMtShw4dNHDgQP3kJz9Rhw4dAlUncFL+uMyrlBgpL4fPEACA5lff+7z11lvKzs7WPffco4KCAkVFRcnlcqmgoED33nuvunXrphdffLH+ji+//HJACgaOZ0250T/WGt3bx6GWUYxeAQCan0OSli5dquuuu059+/bVokWLtHv3bi1btkzLli3T7t279fHHH+vCCy/UT3/6U82fP18PPfSQbrzxxkDXDhzR75d51S5OGted0SsAQGC4JOmhhx7SxRdfrLlz5x7xQIwXXnih5syZoyFDhmjEiBHyer166qmnmr1Y4Hi+KjWasd7o6YsdinUxegUACAyXJC1atEjPPvvsMY9ybVmW8vLyNG/ePC1YsEAXX3xxsxUJnKgHP/OqU4J0UzajVwCAwHFJUlVVlVq1anXcG7du3VoxMTGEKwSlz3YZvb7JaNpAp6KdjF4BAALHIUldunTRokWLjnvjhQsXqkuXLk1eFHAqHvjMq25J0o+6Eq4AAIHlkKQf/vCHmjRpkhYsWHDUGy5atEiPPfaYbrjhhmYrDjhRi3fY+k+x0e/7OeVyELAAAIHlkqS77rpL77zzji655BINHTpUV1xxhbKysiRJRUVFmj17tt577z2df/75uuuuuwJaMHAk9y+11StVurYL4QoAEHguSYqNjdWHH36o3/72t3r22Wf13nvv1S94N8YoPj5ed9xxh/7whz8oJiYmoAUDh/twi60Ptxq9eZlTjmN8UQMAgOZiGWPMoRdUV1dr6dKl2rJliyQpIyND/fr1U2xsbEAK9JfKykolJSWpoqJCiYmJgS4HhygtLVVqauop3dc2Rt+Z5ZXHlv53jfOY34TF6TmddkLzoI1CA+0U/PzRRq7DL4iNjeVbgggZfyu09clOo3kjCFcAgODBwYIQstZXGk38n62f93BoUHteygCA4EGvhJBkG6OffuRVWqz02Pm8jAEAwaXRFCEQCtwrbS3YbvThCKfiOaEzACDI8NEfIWd9pdHdBbZ+kePQJUwNAgCCEL0TQsrBqcG2LaQ/ncfLFwAQnI44Rbh69WrNnDlTJSUlqq6ubnCdZVl6/vnnm6U4f3C73XK73fJ6vYEuBX7w+Be2Fm43+oCpQQBAEGsUsF566SXddNNNio2NVceOHRUdHd3g+lD7KnxeXp7y8vLqj4OF0LVst9F9S23ddTZTgwCA4NYoYP3xj3/UqFGj9MILLyguLi4QNQGNVNUZ3fChRz1TpIfOJVwBAIJbo4C1detWPf3004QrBJU7P7FVtE9a9n2Xop2hNYoKAIg8jYYCBgwYoK+++ioQtQBH9OYmW39fZevJC53qnky4AgAEv0YjWI888oh+/OMfKzY2VpdddpmSk5Mb3YlzKKG5bK0y+tkCr67paOmW7oQrAEBoaBSw+vbtK0n6+c9/ftQF7XwjD83l7v955XRIzw7gXIMAgNDRKGC98MILdGQICst2G01fZ/T0xQ61juU1CQAIHY0fJJvNAAAgAElEQVQC1pgxYwJQBtCQMUa/+dSr7snSzd341iAAILRwLkIEpf8WG3241ejtoU65HIxeAQBCi0uSzj77bP3zn/9Uz5491atXr2NOEVqWpc8//7zZCkTk8di+0atB6ZZGZBGuAAChxyVJ/fr1U8uWLXXw/6zBQiC9sNqosFx6cRAL2wEAocklSVOnTq2/YNq0aYGqBdC+OqMHPvPqR10t9WtDuAIAhCZWDyNoGGM04VNb5bXSw+c6A10OAACnjEXuCApe2yjvY1v5q2w9/R2HOiYwegUACF0ELARcnS3dON+rf20wmjrQqTHZDKwCAEIbAQsBVe0xGvNJrD7YYfTKYKdGdSFcAQBCX4PezBij0tJS1dTUBKoeRJgb5nk1f4dLbw0lXAEAwkeDHq2urk5paWl6//33A1UPIsiCbbbe2GT0f+dW67uZhCsAQPho0KtFR0crIyODkzmjWTz4ma0+raRrMjyBLgUAAL9qNGyQl5enyZMnq7q6OhD1IELM22pr/jaj3/dzimOJAgDCTaNF7kVFRVqzZo2ysrI0aNAgtW3btsHRtC3L0pQpU5q1SIQXY4we/MxWv9aWrsyyVFYW6IoAAPCvRgHrnXfeUUxMjGJiYlRQUNDoDqEWsNxut9xuN9OeQeTDrUYLtxu9M4xT4QAAwpNljDGBLqI5VFZWKikpSRUVFUpMTAx0ORHLGKOL3/bKY0ufXO0LWKWlpUpNTQ10aTgO2in40UahgXYKfv5oI46DhWY1d4vR4h1G/72c0SsAQPg6YsDasmWLnnzySS1atKg+xfXv31+//OUv1aFDh+auEWHCNkYPfGbrwjRLwzIIVwCA8NXoW4RfffWVevXqpWeeeUbp6ekaPHiw0tPT9cwzz+jss8/WypUrA1EnwsDDy219utPokVwHo1cAgLDWaATrrrvu0hlnnKE5c+YoJSWl/vKysjINHTpUd911l/773/82a5EIfW9vtvXAZ7Z+38+hQe05qCgAILw16ukWLVqk3/72tw3ClSSlpKTovvvu06JFi5qtOISH1eVGP57n1TUdLf32HMIVACD8NertXC7XUc9FWFNTI6fT2eRFIXxU1BpdPcejDi2lFwc55WBqEAAQARoFrCFDhui+++7TmjVrGly+du1a3X///brsssuarTiENtsY/WSeV9sPSG9e5lJCNOEKABAZGgWsyZMny+PxKCcnR3369NGwYcN0zjnnqEePHvJ4PJo8eXIg6kQI+vvXtt4uMvrnJU5lJxOuAACRo1HAysrK0pdffqnJkycrOztbtm0rOztbTzzxhL744gtlZmYGok6EmNJqo/uW2rop29LwLNZdAQAiS4NvEdbW1uqdd95Rnz59NH78eI0fPz5QdSHEPfiZrTpbeiSXNXsAgMjTYGghOjpaN9xwg4qKigJVD8LAl6VGf/va1oN9HWoXx9QgACDyNJq76d69OwELp8wYo/GLvTozUbr9LKYGAQCRqVEP+Oijj+qhhx7S0qVLA1EPQtzMjUbztxk9eaFT0U5GrwAAkanRkdwnTJigPXv26Pzzz1erVq3Utm3bBqc1sSxLn3/+ebMWidCw32P060+9uiLL0uWZjF4BACJXo4DVr18/nXvuuYGoBSHur1/Z2r5f+mA4C9sBAJGtUcCaNm1aAMpAqKuzjf6v0NZPzrTUNYmpQQBAZGswj1NdXa2kpCS9/fbbgaoHIeqNjUZbqqTxZzF6BQBAg4AVGxuruLg4uVyNBraAY3pqpa2B6ZbObsXoFQAAjVYijx49Ws8991wgakGIWr7baNEOw2EZAAD4RqOhqpSUFH3yySc6++yzdfnllx/xW4R33HFHsxaJ4PbUSq8yW0pXd2T0CgAASbKMMebQCxyOY49CWJYlr9fbpEU1hcrKSiUlJamiokKJiYmBLids7DpglDnDo9/1dejuPqe2/qq0tFSpqal+rgz+RjsFP9ooNNBOwc8fbdRoBMu27dPaYLBxu91yu90hGQpDwXOrbVmSftad6UEAAA4K+14xLy9PhYWFKigoCHQpYcdjG/2t0NaPulpqHcv0IAAABzkk6bHHHtP27dsbXLF48WLt37+/wWUbN27U2LFjm686BLU3NxmVVEm3c2gGAAAacEjSPffc0+AEz16vV/3799eqVasa3Hjnzp16/vnnm7dCBCWPbfTICq/6t7PUm0MzAADQgEuSDlvnrqNdBhw05StbK/ZIS64O+1lmAABOGr0jTtrGSqMHPrM1vqdD56fxEgIA4HD0jjgpxhjdusir1rHSQ+fy8gEA4EjqD9Nw6MFEj3UZItv0dUZzthjNHuZUfBSvDwAAjqQ+YF1yySWNDjLav3//BpeF2zGycHJ2HTC6Y4lXPzzD0vAsRq8AADgalyQ9+OCDga4DIeDOT7wykp68kMMyAABwLAQsnJA3N9mavs5o2kCn0lowNQgAwLEwz4Pj2nnAaOxCr67uaOnGMwlXAAAcDwELx2SM0S0Lfedx/Ht/J198AADgBDQ62TNwqKlrjGZtNnrzMqYGAQA4UYxg4ag2Vhr9colXY7ItXd2JlwoAACeKXhNHZBujMR951SpGmsK3BgEAOClMEeKI3t5stGC70fvDnUqMZmoQAICTEVIjWKWlperXr5/i4+MbXH777berf//+euSRRwJUWfj5W6Gt89pYurRDSL1EAAAICiHVeyYkJGju3Lm64IIL6i9bunSpXC6XFi5cqGXLlmnHjh0BrDA8rK3wnQ7nFzkh9fIAACBohFQPGhUVpdTU1AaXffrppxo8eLAkaeDAgfrss88CUVpYeeZrW6kx0nVdmBoEAOBUNHnAGj9+vDp16iTLsrRixYoG161du1YXXXSRsrOzlZubq5UrV5709svLy5WYmCjJN8JVXl7ul7oj1QGP0dQ1tn7azaEWLgIWAACnoskD1qhRo7Ro0SJ17Nix0XXjxo3T2LFjtWbNGk2cOFFjxoyRJBUWFmrQoEENfiZNmnTE7ScnJ6uyslKStHfvXiUnJx+znsrKygY/NTU1p/cHhplXNhiV1Ui39gipwU0AAIJKk3+LcMCAAUe8fOfOnVq6dKnmzJkjSRo5cqRuu+02rVu3Tjk5OZo/f/4Jbf+8887TjBkzdOWVV2rBggW67rrrGlzvdrvldrvl9fqORp6Zmdng+gkTJmjixIkn+VeFr79+EadL2xqlePaqtLR5HrOsrKx5HginhXYKfrRRaKCdgt+ptNHhS5gCdpiG4uJipaeny+XylWBZlrKyslRUVKSuXbse9X5DhgzR8uXLNWTIED355JPKzc3VtGnT1L9/fw0bNkxt27ZtcPu8vDzl5eWpsrJSSUlJKi4urp9SlKSYmBjFxMQ0zR8ZYpbusrW8zKtZQ51KTW3RrI99+AsTwYl2Cn60UWignYLf6bZRyB0H6/333290mdvtPuH7JyYmNghY+NbThbay4qXhmay9AgDgdARsoU1mZqa2bdsmj8cjyXdS4aKiImVlZQWqpIhljFHRPqN/rje6tYdDTgcBCwCA0xGwgJWWlqa+fftq+vTpkqSZM2cqIyPjmNOD8J/XN9oa9h+Perxap/hpHnWc4ZHDkm7uxuJ2AABOV5NPEY4bN06zZ8/W9u3bNWzYMCUkJGjdunWSpPz8fI0ZM0aPPPKIEhMTNXXq1KYuB5IWbbf1gw+9Oq+NpcszHMqKl7LiLfVrbSmtBaNXAACcriYPWPn5+Ue9rlu3blqyZElTl4BDFO0z+v5cry5Ms/T+CKeimA4EAMDvmA+KIPs9RtfM8SjOJb02hHAFAEBTCblvEeLUGGN08wKvVldIi69yqQ1TgQAANBkCVoT48xe2/rXe6NVLnerdinAFAEBTYoowAhzwGP1hma1f9XRoVBeaHACApkZvGwHeLTaq8nB+QQAAmgs9bgR4daOtXqlSt2SmBgEAaA4ErDB3wGP0dpHRtZ1pagAAmgu9bph7r8RoX510LWuvAABoNvS6Ye7VDbZ6pkjdmR4EAKDZELDCWPXB6UFGrwAAaFb0vGHsvRKjvXVi/RUAAM2MnjeMvbrR1lkpUo8UpgcBAGhOBKwwVeM1mrWZbw8CABAI9L5has7B6UHWXwEA0OzofcPUqxts5SRLOUwPAgDQ7MI+YLndbuXk5Cg3NzfQpTSbqjqjtzbz7UEAAAIl7HvgvLw8FRYWqqCgINClNJuHltuqtaUx2WHfvAAABCV64DCzutzo8S9t3d3boU4JTA8CABAIBKwwYozR7Yu9ymwpTehN0wIAECiuQBcA/5m50WjuFqN3hjnVwsXoFQAAgcIwR5jYV2d0xydeXZllaUQWzQoAQCDRE4eJh5bb2l0tTbnQGehSAACIeASsMPDFHqPJX9q6p49DnROZGgQAINAIWCFuS5XRiPc8OitFmnA2zQkAQDCgRw5he2uNRrzrkSVp9jCXYlnYDgBAUOBbhCGqzja69gOvNu6VPr7KpfYtCVcAAAQLAlYIMsboF4u8+mCL0bvfdapnKuEKAIBgQsAKQc98beu51UbTBjp1aQdmeQEACDb0ziGmzjZ6ZIWtn3S1NJpzDQIAEJTooUPMqxuMSqqk3/TmeFcAAAQrAlYIMcboL194NbSDpV6suwIAIGixBiuEzN9mtHyPNOe75GIAAIIZPXUI+csXts5OlYZ0YPQKAIBgxghWiCgsM/pPsdE/BjplWQQsAACCGSNYIWLyl161j5N+cAbhCgCAYEfACgHb9xu9tNbo9rMcinYSsAAACHYErBDgLrQV5ZDG9aC5AAAIBfTYQW5LldETX9q6tYdDKTGMXgEAEArCPmC53W7l5OQoNzc30KWckt986lXLKOm354R9UwEAEDbCvtfOy8tTYWGhCgoKAl3KSZu/1daM9UZ/Os+pZEavAAAIGWEfsEJVnW10+2KvLkyzdOOZhCsAAEIJx8EKUn8rtLWyTFr6PaccHPcKAICQwghWENq+3+iBpb6F7X1bE64AAAg1BKwgNPF/XkU5pIfOpXkAAAhFTBEGmVc32HpxrdGz/Z1KjWX0CgCAUMQQSRBZVW700wVeXd/F0s3dCFcAAIQqAlaQ2FdnNHKuR5ktpecGcEJnAABCGVOEQcAYo3ELvdq8Tyq4xqX4KMIVAAChjIAVBJ7+2tY/1xvNGOxUjxTCFQAAoY4pwgBbV2H0qyW2xp/l0A/OoDkAAAgH9OgBNmO9rRinNOk8mgIAgHBBrx5g/95g6+qOllq4mBoEACBcELACqLDM6Ksy6bouNAMAAOGEnj2AXt1gKzFKGtqB0SsAAMIJASuADk4PxjI9CABAWCFgBcjKUqPCcqYHAQAIR/TuAfLvjbaSoqXLMhi9AgAg3BCwAsAYo39vsHVNR0sxTgIWAADhhoAVAF+VSauYHgQAIGzRwwfAvzfYSo6WhvDtQQAAwlLYByy3262cnBzl5uYGuhRJ304Pfq+TpWimBwEACEthf7LnvLw85eXlqbKyUklJSc3++F+VGn2w1ZbLkqIclipqjdZUSFMuDPtsCwBAxAr7gBVIxhj98EOPVpVLDkuqsyUjKSteupTpQQAAwhYBqwnN2+o7Fc4Hw50a3ME3YuW1jSxLclgELAAAwhUBqwk9+ZWtXqnSJe2/DVNOB8EKAIBwx0KgJrKuwuidIqNfnuWUxWgVAAARhYDVRJ5aaatVrHRDV8IVAACRhoDVBCpqjV5YY+vWHg614ETOAABEHAJWE3hhta1qj/TzHjy9AABEIhKAn3lto6dW2rr+DEvtWzJ6BQBAJOJbhH72dpHRxr3SK5eSXQEAiFSkAD+b8pWti9paym3DUwsAQKQiBfjR12VG87cZ3ZbD0woAQCQjCfjR31fZah0rfb8za68AAIhkBCw/qfYY/WOtrTHZDsU4CVgAAEQyApafvLbRqKxGGtudpxQAgEhHGvCT/K9tDW5v6cwkRq8AAIh0BCw/KCwzWrTDMHoFAAAkEbD84u+rbLWJlb7XidErAABAwDptBzxG/1hj66Zsh6JZ3A4AAETAOm2vbTQqr5VuYXoQAAB8g1PlnITyGqP8r221cEkpMZZSoqWnVtq6tL2lrixuBwAA3wj7gOV2u+V2u+X1ek97Wy+utXV3ga1Yp1R9yOZmDnGe9rYBAED4sIwxJtBFNIfKykolJSWpoqJCiYmJp7SN783xaE+NtOBKlw54fMe9OuCVuiRIlsUI1qkqLS1VampqoMvAcdBOwY82Cg20U/DzRxuF/QiWv9jG6KPtRref5Vtr1cJlqQXPHgAAOAJWZp+gz/dIZTXS4PaMVAEAgGMjYJ2geVt9a68uSCNgAQCAYyNgnaB524wuamtxImcAAHBcBKwT4LGNFmwzuiSdcAUAAI6PgHUClu8xqqyTLmH9FQAAOAEErBMwb6tRnEvKbUPAAgAAx0fAOgHzthpd3NbiXIMAAOCEELCOo842WrjdMD0IAABOGAHrOJbuMqrysP4KAACcOALWcczbapQQJfVrTcACAAAnhoB1HPO2GfVvZ8nlIGABAIATQ8A6hhqv0cesvwIAACeJgHUM/9tpdMArXZLO0wQAAE4cyeEYXttolBwt9WkV6EoAAEAoIWAdxcvrbP11pa0JvR1ysv4KAACchJALWKWlperXr5/i4+PrL9u0aZPS09M1aNAg3Xjjjaf9GAu32frpR16NPtPS3b1D7ikCAAAB5gp0AScrISFBc+fO1XXXXdfg8hEjRui555477e2vrTC6Zq5XF7W19Pf+TlkWo1cAAODkhNzwTFRUlFJTUxtd/t5776l///56+eWXT3nbe6qNRrzrUZtY6fXLnJwaBwAAnJJmCVjjx49Xp06dZFmWVqxY0eC6tWvX6qKLLlJ2drZyc3O1cuXKk95+enq6Vq9erTlz5ig/P1979uw56W3UeI2+N9er8lrpP5e7lBJDuAIAAKemWQLWqFGjtGjRInXs2LHRdePGjdPYsWO1Zs0aTZw4UWPGjJEkFRYWatCgQQ1+Jk2adMTtx8TEKC4uTi1atFD//v21fv36o9ZSWVnZ4KempkbGGN28wKv/7TJ6a6hTXRIJVwAA4NQ1yxqsAQMGHPHynTt3aunSpZozZ44kaeTIkbrtttu0bt065eTkaP78+Se0/X379ik+Pl7GGC1dulS33XZb/XVut1tut1ter1eSlJmZ2eC+EyZMkK68Xy+vi9Hz5x9QtyiPSktP4Y/EKSsrKwt0CTgBtFPwo41CA+0U/E6ljQ5fvhTQRe7FxcVKT0+Xy+Urw7IsZWVlqaioSF27dj3q/YYMGaLly5dryJAhevLJJ7V161bde++9ioqK0qhRo5Senl5/27y8POXl5amyslJJSUkqLi5WYmJi/fWvlsToZx879GiuQz89O/FID4dmcKR1dQg+tFPwo41CA+0U/E63jULuW4SS9P777zf4vWfPnho6dOgJ3TcxMbE+YH20zdbPl3h1czdLEzkcAwAA8JOAporMzExt27ZNHo9HkmSMUVFRkbKyspr8sWu8RqPe92pAO0tPX8zhGAAAgP8ENGClpaWpb9++mj59uiRp5syZysjIOOb0oL8s2m60u1p6/AKnojhSOwAA8KNmCVjjxo1TRkaGSkpKNGzYsAYBKj8/X/n5+crOztakSZM0derU5ihJ75YYtY+TzmYaHAAA+FmzrMHKz88/6nXdunXTkiVLmqOMBv5bbOvyDIupQQAA4HcRubK7eJ/RyjLp8syI/PMBAEATi8iE8V6JkcOShnRg9AoAAPhfRAasd0tsXZBmcTocAADQJCIuYNXZRnNLjC7PIFwBAICmEXEBq2CnUWWd9N1MAhYAAGgaERew3t9i1DpW6tuagAUAAJpG5AWsrbaGZVhycHgGAADQRCIuYH2+R7o8I+L+7KBVU1OjP/3pT6qpqQl0KTgG2in40UahgXYKfv5qI8sYY/xUU1CrrKxUUlKSNGW3dt6SqjYtGMEKBgfbpaKiov4k3Ag+tFPwo41CA+0U/PzVRhE3lHNOK4twBQAAmlTEBSwOLgoAAJpas5yLMBgcnAn9TtJeVVY6A1wNDqqsrGzwL4IT7RT8aKPQQDsFv9Npo4SEhPpzHEfMGqySkhJlZmYGugwAABCmDl23FTEBy7Ztbd26tUG6BAAA8JeIHMECAABoLhG3yB0AAKCpEbAAAAD8jICFZlNdXa1rrrlG2dnZ6t27ty677DKtW7dOkjRo0CB17txZffr0UZ8+ffTEE08EuNrI1alTJ3Xr1q2+LV555RVJ0tq1a3XRRRcpOztbubm5WrlyZYArjVx79uypb58+ffooOztbLpdLpaWl7EsBNH78eHXq1EmWZWnFihX1lx9r32G/an5Haqdj9U/SKfZRBmgmBw4cMLNnzza2bRtjjHnqqafMwIEDjTHGDBw40LzxxhsBrA4HdezY0SxfvrzR5ZdccomZOnWqMcaYV1991Zx77rnNXBmO5s9//rO54oorjDHsS4H00UcfmeLi4kb70LH2Hfar5nekdjpW/2TMqe1XjGCh2cTGxmr48OH137C44IILtGnTpsAWhROyc+dOLV26VD/+8Y8lSSNHjlRxcXGDT3gInOeff14333xzoMuIeAMGDFBGRkaDy46177BfBcaR2qkp+icCFgJmypQpuvrqq+t/v/vuu9WrVy9df/312rBhQwArw4033qhevXrp5ptv1q5du1RcXKz09HS5XL5jE1uWpaysLBUVFQW4UixevFhlZWW64oor6i9jXwoex9p32K+C1+H9k3Ty+xUBCwHxyCOPaN26dXr00UclSS+99JJWrVqlL774Qv3792/QWaB5LViwQF988YWWLVum1q1ba/To0YEuCcfw/PPP68Ybb6zvpNmXgNNzeP8kneJ+5bdJTeAE/fnPfzb9+vUzZWVlR71NTEyM2b17dzNWhSPZunWriY+PNzt27DAJCQmmrq7OGGOMbdumbdu2Zu3atQGuMLLt3bvXxMfHm6+//vqot2Ffan6Hru051r7DfhVYR1pveiL9kzEntl8xgoVmNXnyZM2YMUNz585VcnKyJMnj8WjHjh31t5k5c6batm2rVq1aBarMiFVVVaXy8vL632fMmKFzzjlHaWlp6tu3r6ZPny7J10YZGRnq2rVroEqFpFdeeUW9e/dW9+7dJbEvBaNj7TvsV8HlSP2TdOr7FUdyR7M5eD7ILl26KCEhQZIUExOjDz/8UAMHDlRNTY0cDodat26tyZMnq3fv3gGuOPJs2LBBI0eOlNfrlTFGXbp00ZQpU9SpUyetXr1aY8aM0Z49e5SYmKipU6eqV69egS45ol100UW65ZZbdNNNN0nyBWT2pcAZN26cZs+ere3bt6tVq1ZKSEjQunXrjrnvsF81vyO10/z584/YP3366aenvF8RsAAAAPyMKUIAAAA/I2ABAAD4GQELAADAzwhYAAAAfkbAAgAA8DMCFgAAgJ8RsAD43axZszR06FClpqYqOjpanTt31rhx47RmzZqT2s6YMWPUs2fPJqrSv6ZNmybLsrR7926/bC85OVm/+93v/LItAM2PgAXAr+6++25dffXVSkpK0rPPPqv3339fDzzwgAoLC3X99dcHurwmM2LECC1ZsqTBEaABRC5XoAsAED7+85//6E9/+pPuv/9+/eEPf6i/fMCAAbrpppv0zjvvBLC6ptWmTRu1adMm0GUACBKMYAHwm8cff1xt27bV/ffff8TrDz0DfXV1te688061b99esbGx6tOnj954441jbv93v/ud4uPjG11++HTaoEGDdMUVV2jGjBk688wzFRcXpyuvvFJlZWXavHmzhg0bpvj4eJ111lmaP39+g2116tRJt912m9xutzp27KikpCRdc8012rVr1zFrO3yKcNOmTbIsS9OnT9dtt92mlJQUpaen66677pLH42lw37feekvdu3dXbGyszjvvPBUUFBzxMWbPnq3zzz9fLVq0UJs2bfTzn/9cVVVV9df/6le/UkpKikpKSuov+/jjj+V0OpWfn3/M+gH4FwELgF94PB59/PHHuvTSSxUVFXXc2//oRz9Sfn6+JkyYoDfffFM5OTkaOXKkZs2a5Zd6li9frilTpugvf/mLnnnmGS1cuFC33HKLRo0apSuuuEKvv/660tLS9P3vf1/79u1rcN9Zs2Zp1qxZcrvdmjJlij766CPdfvvtp1THfffdJ4fDoX//+9+69dZb9fjjj+u5556rv37FihUaOXKkzjzzTL3++usaPXq0rrvuOtXU1DTYzmuvvaarrrpKvXr10htvvKHHHntMr7/+um6++eb62zz66KNq166dbrrpJhljVFVVpdGjR2vYsGEaN27cKdUP4NQwRQjAL/bs2aOamhplZWUd97ZffPGFXn/9dT3zzDP1Hf/ll1+uTZs26fe//72uuuqq066noqJCn3/+uVq3bl3/mI8//riefvpp3XrrrZKk9u3bq1evXvrggw909dVX19/XGKNZs2YpJiZGkm806pFHHpFt23I4Tu5z6fnnn6+//vWvkqTLLrtM8+bN02uvvVZfw6RJk5SVlaU333xTTqdTktSiRYsGwckYo7vuukvXX399g3CWnp6u4cOH6/7779dZZ52lFi1a6MUXX9RFF12kp556SitXrlRZWZmef/75k336AJwmRrAA+JVlWce9zcKFCyVJ1157bYPLr7/+ei1fvrzBtNep6tOnT324kqTs7GxJ0pAhQxpdVlxc3OC+AwcOrA9XkpSTk6O6ujrt3LnzpOsYOnRog99zcnIaTOF9+umnuvLKK+vDlSSNGjWqwX3WrFmjzZs367rrrpPH46n/GThwoBwOh5YuXVp/29zcXN177736zW9+o7///e96+umnlZ6eftJ1Azg9BCwAftGqVSvFxsaqqKjouLctKytTVFSUUlNTG1zetm1bGWNUXl5+2vUc/m2+6OjoRpcfvKy6uvqE7nv47U61jkO3s23bNqWlpTW4TWJiomJjY+t/P0w2k1EAAALeSURBVLiu63vf+56ioqLqf+Li4uT1ehsFxB/+8Ieqra39/3buHaSdLIrj+DeQQpjKB4ghhZWmUCFgtNDOyogaA4IKWohpLANquvjA+EAFwVJUJIU4EQxiOi1tBAsFEcFIQEEtFAUREh9bLCs75J9i2exKdn8fGBjuzFzOmWI4nHsZHA4Hfr//L8csIn+flghFJC/sdjtNTU0cHBzw/v6O3Z7781JSUkImk+Hp6Yni4uLv8fv7e2w2W85fHRQVFZHJZCxjmUwmaw9VIamoqMjqjL28vFiKsD8K0ZWVFRobG7PmcDgc3+efn58MDQ3hcrlIpVJMTU0xMTHxD0UvIrmogyUieRMMBrm7u2N6evqX1xOJBADNzc0AmKZpuW6aJm63G8Mwfvm80+kknU5zdXX1PXZ4eMjHx0c+wv8RDQ0N7O3tWXKIxWKWe1wuF06nk2QySX19fdbx5wJrfn6e4+Njtre3mZmZIRKJWJYQReTfoQ6WiOSN1+tldHSU8fFxzs/P6enpoaysjOvra9bW1nh+fsbr9VJXV4ff7ycYDPL29kZ1dTXRaJSjoyPi8XjO+VtbWzEMg0AgwNjYGDc3NywvL1uW0wpNKBTC4/Hg8/kYHh4mmUyysLBgyclms7G0tERfXx+vr6+0tbVhGAapVIr9/X0ikQhVVVWcnp4SDoeZnJyktraWmpoa4vE4AwMDnJycFPR7Eik06mCJSF7Nzc2xu7vL4+Mjg4ODtLS0EA6Hcblclo5VNBolEAgwOztLZ2cnZ2dnxGIx2tvbc85dWlrKzs4ODw8P+Hw+VldX2dzctGxILzRutxvTNLm8vKSrq4v19XW2traycuru7iaRSHBxcUFvby8dHR0sLi5SWVlJeXk56XSa/v5+PB4PIyMjwO+F2cbGBre3t4RCoZ9IT+R/y/b19fX100GIiIiI/JeogyUiIiKSZyqwRERERPJMBZaIiIhInqnAEhEREcmz3wBskGhKB+8quAAAAABJRU5ErkJggg==\" />"
      ]
     },
     "execution_count": 3,
     "metadata": {
      "tags": []
     },
     "output_type": "execute_result"
    }
   ],
   "source": [
    "# Plot the error in Q\n",
    "plot(err, yscale=:log10)\n",
    "xlabel!(\"Column index\")\n",
    "ylabel!(\"Error in Q\")"
   ]
  },
  {
   "cell_type": "markdown",
   "metadata": {},
   "source": [
    "#### Explain why the error in the columns of Q becomes very large. Consider roundoff errors that occur during the calculation. In double precision, the computer represents floating point numbers using only approximately 16 decimals digits."
   ]
  },
  {
   "cell_type": "markdown",
   "metadata": {},
   "source": [
    "Observation: As i gets from zeros to around 53, the error in $Q$ gets linearly from zero to $2^0 = 1$. Starting from 53 to 128, error stays big and the addition no longer adds up. <br>\n",
    "Assume Gram-Schimdt for this QR decomposition. In double precision, we know that the floating points are represented using 16 decimal digits. Then, since $2^{53} = 1.11 * 10^{-16}$, the 53 bit significand precision gives about 16 significant digits precision. <br>\n",
    "As seen from previous homework, we know digits beyond certain point would be dropped during addition. Since $Q1$ has norm of 1 as it is orthogonalized, the order of $Q1$ is 1 initially. Then, it would be '1.[(53-i) significands]' where error is $O(2^{-53+i})$ <br>\n",
    "$Q1$ has 53-i significand where i is column index. At each step of QR, $R$ is decreading in a way that some digits would be dropped linearly as shown in graph. The decomposition is like\n",
    "$A_k = R_{1k}Q_1 + R_{2k}Q_2 + ... + R_{kk}Q_k$ where each term has order $1, 2$, ..., $2^{-k+1}$ respectively. However, when adding these up, the latter terms might be too far from the decimal point. And when k > 53, the whole value exceeds the limit and diusappears. And thinking of this decomposition, the part starting from $Q_{53}$ up to $Q_{128}$ doesn't cound towards the decomposition. "
   ]
  },
  {
   "cell_type": "code",
   "execution_count": null,
   "metadata": {},
   "outputs": [],
   "source": []
  }
 ],
 "metadata": {
  "anaconda-cloud": {},
  "colab": {
   "name": "accuracy.ipynb",
   "provenance": []
  },
  "kernelspec": {
   "display_name": "Julia 1.2.0",
   "language": "julia",
   "name": "julia-1.2"
  },
  "language_info": {
   "file_extension": ".jl",
   "mimetype": "application/julia",
   "name": "julia",
   "version": "1.0.0"
  }
 },
 "nbformat": 4,
 "nbformat_minor": 1
}

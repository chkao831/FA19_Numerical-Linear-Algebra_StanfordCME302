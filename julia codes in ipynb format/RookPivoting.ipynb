{
 "cells": [
  {
   "cell_type": "markdown",
   "metadata": {},
   "source": [
    "## Rook Pivoting"
   ]
  },
  {
   "cell_type": "markdown",
   "metadata": {},
   "source": [
    "![](IMG_2477.jpg)"
   ]
  },
  {
   "cell_type": "code",
   "execution_count": null,
   "metadata": {},
   "outputs": [],
   "source": [
    "using Random\n",
    "using Printf\n",
    "using LinearAlgebra\n",
    "\n",
    "# Initialize the random number generator\n",
    "rng = MersenneTwister(2018)\n"
   ]
  },
  {
   "cell_type": "code",
   "execution_count": null,
   "metadata": {},
   "outputs": [],
   "source": [
    "function getrfRook!(A)\n",
    "    n = size(A,1)\n",
    "    P_row = collect(1,n); P_col = collect(1,n)\n",
    "    for k = 1:n\n",
    "        # LU only on kth col of the kth step\n",
    "        if k == 1\n",
    "            # simply start searching for the biggest\n",
    "            row = 1; row0 = 0; col = 1; col0 = 0\n",
    "            while row != row0 || col != col0\n",
    "                row0, col0 = row, col\n",
    "                row_A = abs.(A[row+k-1, k:end])\n",
    "                col = findmax(row_A)[2] #biggest ele in row\n",
    "                col_A = abs.(A[k:end, col+k-1])\n",
    "                row = findmax(col_A)[2]\n",
    "            end\n",
    "            # swap and update values\n",
    "            row += k - 1; col += k - 1\n",
    "            P_row[k], P_row[row] = P_row[row], P_row[k]\n",
    "            P_col[k], P_col[col] = P_col[col], P_col[k]\n",
    "            for j = 1:n\n",
    "                A[k,j], A[row,j] = A[row,j], A[k,j]\n",
    "            end\n",
    "            for i = 1:n\n",
    "                A[i,k], A[i,col] = A[i,col], A[i,k]\n",
    "            end\n",
    "            #LU on col 1\n",
    "            for i = k+1:n\n",
    "                A[i,k] /= A[k,k]\n",
    "            end\n",
    "        #otherwise, for steps after step one\n",
    "        else \n",
    "            #firstly update the kth diagonal entry\n",
    "            for i = 1:k-1\n",
    "                A[k,k] -= A[k,i]*A[i,k]\n",
    "            end\n",
    "            \n",
    "            row = 1; row0 = 0; col = 1; col0 = 0\n",
    "            array = zeros(n-k,1)\n",
    "            while row != row0 || col != col0\n",
    "                row0,col0 = row, col\n",
    "                array = A[row+k-1, k:n]\n",
    "                #update\n",
    "                for m = k:n\n",
    "                    array[m-k] -= A[row+k-1]*A[k,m]\n",
    "                end\n",
    "                row_A = abs.array\n",
    "                col = findmax(row_A)[2]\n",
    "                \n",
    "                array = A[k:n, col+k-1]\n",
    "                \n",
    "                #update\n",
    "                for m = k:n\n",
    "                    array[m-k] -= A[m,k]*A[k,col+k-1]\n",
    "                end\n",
    "                A[i,j] -= A[i,k]*A[k,j]\n",
    "                col_A = abs.array\n",
    "                row = findmax(col_A)[2]\n",
    "            end\n",
    "                \n",
    "            #once located all index number of swap, perform swapping\n",
    "            P_row[k], P_row[row] = P_row[row], P_row[k]\n",
    "            P_col[k], P_col[col] = P_col[col], P_col[k]\n",
    "            for j = 1:n\n",
    "                A[k,j], A[row,j] = A[row,j], A[k,j]\n",
    "            end\n",
    "            for i = 1:n\n",
    "                A[i,k], A[i,col] = A[i,col], A[i,k]\n",
    "            end\n",
    "                \n",
    "            #LU on kth column\n",
    "            for i = k+1:n\n",
    "                A[i,k]/=A[k,k]\n",
    "            end\n",
    "        end\n",
    "    end    \n",
    "end                "
   ]
  },
  {
   "cell_type": "markdown",
   "metadata": {},
   "source": [
    "### Initialization"
   ]
  },
  {
   "cell_type": "code",
   "execution_count": null,
   "metadata": {},
   "outputs": [],
   "source": [
    "n = 64 # Size of matrix\n",
    "r = 32 # Rank\n",
    "\n",
    "A = rand(rng,n,n)\n",
    "\n",
    "F = lu(A)    # LU factorization\n",
    "L = F.L      # Lower triangular part\n",
    "U = F.U      # Upper triangular part\n",
    "L = L[:,1:r] # Keep the first r columns\n",
    "U = U[1:r,:] # Keep the first r rows\n",
    "\n",
    "\n",
    "A = L*U      # Rank r matrix\n",
    "A0 = copy(A) # Save a copy\n",
    ";"
   ]
  },
  {
   "cell_type": "markdown",
   "metadata": {},
   "source": [
    "### Factorization"
   ]
  },
  {
   "cell_type": "code",
   "execution_count": null,
   "metadata": {},
   "outputs": [],
   "source": [
    "P_row, P_col = getrfRook!(A0)"
   ]
  },
  {
   "cell_type": "markdown",
   "metadata": {},
   "source": [
    "### Test"
   ]
  },
  {
   "cell_type": "code",
   "execution_count": null,
   "metadata": {},
   "outputs": [],
   "source": [
    "L0 = UniformScaling(1.0) + tril(A0,-1) # Extract L matrix\n",
    "U0 = triu(A0) # Extract U matrix\n",
    "\n",
    "L = zeros(n,r)\n",
    "for i=1:n\n",
    "    L[P_row[i],:] = L0[i,1:r] # Undo the row permutations\n",
    "end\n",
    "\n",
    "U = zeros(r,n)\n",
    "for j=1:n\n",
    "    U[:,P_col[j]] = U0[1:r,j] # Undo the column permutations\n",
    "end\n",
    "\n",
    "err = norm(L*U - A)\n",
    "@printf \"The error is %g\" err # Test the accuracy\n",
    "err < 1e-13 ? \"PASS\" : \"FAIL\""
   ]
  },
  {
   "cell_type": "code",
   "execution_count": null,
   "metadata": {},
   "outputs": [],
   "source": []
  }
 ],
 "metadata": {
  "kernelspec": {
   "display_name": "Julia 1.5.3",
   "language": "julia",
   "name": "julia-1.5"
  },
  "language_info": {
   "file_extension": ".jl",
   "mimetype": "application/julia",
   "name": "julia",
   "version": "1.5.3"
  }
 },
 "nbformat": 4,
 "nbformat_minor": 2
}

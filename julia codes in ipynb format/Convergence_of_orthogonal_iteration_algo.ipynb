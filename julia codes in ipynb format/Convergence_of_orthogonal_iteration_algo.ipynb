{
 "cells": [
  {
   "cell_type": "markdown",
   "metadata": {},
   "source": [
    "### Convergence of the orthogonal iteration algorithm\n",
    "\n",
    "Note: previously run on Julia Version 1.2.0 (2019-08-20)\n",
    "\n",
    "#### Q1. Write code to create a matrix in $\\mathbb{R}^{n*n}$ of size = 8 with eigenvalues 1, 0.2, 0.05, 0.017, 0.0085, 0.0042, 0.0021, 0.0011"
   ]
  },
  {
   "cell_type": "code",
   "execution_count": null,
   "metadata": {},
   "outputs": [],
   "source": [
    "using Base\n",
    "using LinearAlgebra\n",
    "import Pkg; Pkg.add(\"Plots\")\n",
    "using Plots\n",
    "using Printf\n",
    "using Random"
   ]
  },
  {
   "cell_type": "code",
   "execution_count": null,
   "metadata": {},
   "outputs": [],
   "source": [
    "D = zeros(8,8)\n",
    "D[1,1] = 1\n",
    "D[2,2] = 0.2\n",
    "D[3,3] = 0.05\n",
    "D[4,4] = 0.017\n",
    "D[5,5] = 0.0085\n",
    "D[6,6] = 0.0042\n",
    "D[7,7] = 0.0021\n",
    "D[8,8] = 0.0011\n",
    "\n",
    "rng = MersenneTwister(2019)\n",
    "\n",
    "P = rand(rng,8,8)\n",
    "A = P*D*inv(P) # by diagnonalization theorem\n",
    "println(\"Matrix A is\")\n",
    "A"
   ]
  },
  {
   "cell_type": "code",
   "execution_count": null,
   "metadata": {},
   "outputs": [],
   "source": [
    "println(\"Eigenvalues of matrix A are\")\n",
    "eigvals(A)"
   ]
  },
  {
   "cell_type": "markdown",
   "metadata": {},
   "source": [
    "#### Q2. Implement the orthogonal iteration algorithm. Print the values along the diagnoal of $R_k$ at each iteartion $k$ for $k = 1, ..., 5$. Print each number using at most 4 significant digits.\n",
    "\n",
    "#### Q4. Assume that $\\left\\|A_k(p:n,1:p-1)\\right\\|_2 $ and $\\left\\|A_k(p+1:n,1:p)\\right\\|_2$ are very small. Show that the entry $A_k(p,p)$ is very close to an eigenvalues of A. \n",
    "\n",
    "#### Q5. Considering entry $p$ along the diagonal, plot the convergence of the pth eigenvalue. Choose $p = 1, 2, and 3$, Use a semi-logarithmic plot. We would expect the following theoretical rate of convergence at step $k$ for entry $p$:  \n",
    "\n",
    "<img src=\"IMG_2478.jpg\" width=\"500\">"
   ]
  },
  {
   "cell_type": "code",
   "execution_count": null,
   "metadata": {},
   "outputs": [],
   "source": [
    "# Q2 Setup\n",
    "\n",
    "Qk = rand(rng,8,8)\n",
    "Ak = zeros(8,8)\n",
    "block = zeros(4,4)\n",
    "y_2norm = []\n",
    "y_p1 = []\n",
    "y_p2 = []\n",
    "y_p3 = []"
   ]
  },
  {
   "cell_type": "code",
   "execution_count": null,
   "metadata": {},
   "outputs": [],
   "source": [
    "for k = 1:5\n",
    "    println(\"===Itearation: \", k, \"===\")\n",
    "    global Qk\n",
    "    Rk = A*Qk\n",
    "    Q,R = qr(Qk)\n",
    "    println(\"## Q2 ## \")\n",
    "    println(\"R[1,1] is \", round(R[1,1], sigdigits=4))\n",
    "    println(\"R[2,2] is \", round(R[2,2], sigdigits=4))\n",
    "    println(\"R[3,3] is \", round(R[3,3], sigdigits=4))\n",
    "    println(\"R[4,4] is \", round(R[4,4], sigdigits=4))\n",
    "    println(\"R[5,5] is \", round(R[5,5], sigdigits=4))\n",
    "    println(\"R[6,6] is \", round(R[6,6], sigdigits=4))\n",
    "    println(\"R[7,7] is \", round(R[7,7], sigdigits=4))\n",
    "    println(\"R[8,8] is \", round(R[8,8], sigdigits=4))\n",
    "    Qk = Q\n",
    "    \n",
    "    Ak = transpose(Qk)*A*Qk\n",
    "    \n",
    "    # Q3 Consider block [5:8, 1:4]\n",
    "    block = Ak[5:8, 1:4]\n",
    "    append!(y_2norm, opnorm(block,2))\n",
    "    \n",
    "    # Q4 Observe diagonal of Ak\n",
    "    println(\"## Q4 ## \")\n",
    "    \n",
    "    # Note: the preblock here means A_k[p:n, 1:p-1]\n",
    "    # postblock here means A_k[p+1:n, 1:p]\n",
    "    # On boundary, when p=1, we only have block A_k[2:8, 1]\n",
    "    # when p=8, we only have block A_k[8,1:7]\n",
    "    for p = 1:8\n",
    "        if p == 1\n",
    "            postblock = Ak[2:8, 1]\n",
    "            m = @sprintf \" When p=1, block 2-norm is %1.4f, Ak diag val is %1.4f\"\\\n",
    "            norm(postblock,2) Ak[1,1]\n",
    "            println(m)\n",
    "        elseif p == 8\n",
    "            postblock = Ak[8, 1:7]\n",
    "            m = @sprintf \" When p=8, block 2-norm is %1.4f, Ak diag val is %1.4f\"\\\n",
    "            norm(postblock,2) Ak[8,8]\n",
    "        else\n",
    "            preblock = Ak[p:8, 1:(p-1)]\n",
    "            postblock = Ak[(p+1):8, 1:p]\n",
    "            m = @sprintf \\\n",
    "            \" When p = %1.0f, preblock norm is %1.4f, postblock norm is %1.4f, Ak diag is %1.4f\"\\\n",
    "            p norm(preblock,2) norm(postblock,2) Ak[p,p]\n",
    "            println(m)\n",
    "        end\n",
    "    end\n",
    "    \n",
    "    # Q5 Convergence of pth eval: p=1,2,3\n",
    "    for p = 1:3\n",
    "        if p == 1\n",
    "            append!(y_p1, abs(1-Ak[1,1]))\n",
    "        elseif p == 2\n",
    "            append!(y_p2, abs(0.2-Ak[2,2]))\n",
    "        else\n",
    "            append!(y_p3, abs(0.05-Ak[3,3]))\n",
    "        end\n",
    "    end\n",
    "end\n"
   ]
  },
  {
   "cell_type": "markdown",
   "metadata": {},
   "source": [
    "#### Q3. Consider the block $(p+1:n, 1:p)$ in the matrix $A_k = Q_k^T A Q_k$, plot the 2-norm of this block as a function of $k$ for $p = 4$. Compare with the analytical estiate, which states that it should decay like $\\mid \\frac{\\lambda_{p+1}}{\\lambda_p} \\mid ^ k$"
   ]
  },
  {
   "cell_type": "code",
   "execution_count": null,
   "metadata": {},
   "outputs": [],
   "source": [
    "plot(y_2norm; yscale =: log)"
   ]
  },
  {
   "cell_type": "code",
   "execution_count": null,
   "metadata": {},
   "outputs": [],
   "source": [
    "# Q5 plotting\n",
    "plot(y_p1; yscale=: log)\n",
    "plot(y_p2; yscale=: log)\n",
    "plot(y_p3; yscale=: log)"
   ]
  },
  {
   "cell_type": "markdown",
   "metadata": {},
   "source": [
    "Observation: At early print of Q4 result, we would see quite large block 2-norms, and the diag value is not quite accurate; at late stages, the norms become much smaller with Ak diag being closer to eigenvalues. "
   ]
  },
  {
   "cell_type": "markdown",
   "metadata": {},
   "source": [
    "Other written analyses:"
   ]
  },
  {
   "cell_type": "markdown",
   "metadata": {},
   "source": [
    "![](IMG_2480.jpg)\n",
    "![](IMG_2481.jpg)\n",
    "![](IMG_2482.jpg)"
   ]
  },
  {
   "cell_type": "code",
   "execution_count": null,
   "metadata": {},
   "outputs": [],
   "source": []
  }
 ],
 "metadata": {
  "kernelspec": {
   "display_name": "Julia 1.2.0",
   "language": "julia",
   "name": "julia-1.2"
  },
  "language_info": {
   "file_extension": ".jl",
   "mimetype": "application/julia",
   "name": "julia",
   "version": "1.5.3"
  }
 },
 "nbformat": 4,
 "nbformat_minor": 2
}

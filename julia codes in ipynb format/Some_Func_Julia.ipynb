{
 "cells": [
  {
   "cell_type": "markdown",
   "metadata": {},
   "source": [
    "### This file contains some short functions in Julia from lectures and assignmnets"
   ]
  },
  {
   "cell_type": "markdown",
   "metadata": {},
   "source": [
    "#### LU Decomposition"
   ]
  },
  {
   "cell_type": "code",
   "execution_count": 1,
   "metadata": {},
   "outputs": [
    {
     "data": {
      "text/plain": [
       "getrfOuter! (generic function with 1 method)"
      ]
     },
     "execution_count": 1,
     "metadata": {},
     "output_type": "execute_result"
    }
   ],
   "source": [
    "function getrfOuter!(A)\n",
    "    n = size(A,1)\n",
    "    for k = 1:n\n",
    "        for i = k+1:n\n",
    "            A[i,k] /= A[k,k]\n",
    "        end\n",
    "        for i = k+1:n\n",
    "            for j = k+1:n\n",
    "                A[i,j] -= A[i,k] * A[k,j]\n",
    "            end\n",
    "        end\n",
    "    end\n",
    "end"
   ]
  },
  {
   "cell_type": "markdown",
   "metadata": {},
   "source": [
    "In the function above, A[k,k] should not be too small (making the whole term large); it should not be smaller than any of A[i,k] s.t. the division works well.  "
   ]
  },
  {
   "cell_type": "markdown",
   "metadata": {},
   "source": [
    "#### LU with Pivoting"
   ]
  },
  {
   "cell_type": "code",
   "execution_count": 2,
   "metadata": {},
   "outputs": [
    {
     "data": {
      "text/plain": [
       "getrf! (generic function with 1 method)"
      ]
     },
     "execution_count": 2,
     "metadata": {},
     "output_type": "execute_result"
    }
   ],
   "source": [
    "function getrf!(A)\n",
    "    n = size(A,1)\n",
    "    for k = 1:n\n",
    "        kmx = k - 1 + argmax(abs.(A[k:end,k]))\n",
    "        for j = 1:n\n",
    "            A[k,j], A[kmx,j] = A[kmx,j], A[k,j]\n",
    "        end\n",
    "        for i = k+1:n\n",
    "            A[i,k] /= A[k,k]\n",
    "        end\n",
    "        for j = k+1:n, i = k+1:n\n",
    "            A[i,j] -= A[i,k] * A[k,j]\n",
    "        end\n",
    "    end\n",
    "end"
   ]
  },
  {
   "cell_type": "markdown",
   "metadata": {},
   "source": [
    "#### Gauss-Jordan"
   ]
  },
  {
   "cell_type": "markdown",
   "metadata": {},
   "source": [
    "![](IMG_2476.jpg)"
   ]
  },
  {
   "cell_type": "code",
   "execution_count": 3,
   "metadata": {},
   "outputs": [
    {
     "data": {
      "text/plain": [
       "simple_rand (generic function with 1 method)"
      ]
     },
     "execution_count": 3,
     "metadata": {},
     "output_type": "execute_result"
    }
   ],
   "source": [
    "function simple_rand(state)\n",
    "    rand_max = 2^32; a = 11-3515245; c = 54321\n",
    "    state = (a*state+c)%rand_max\n",
    "    return state\n",
    "end"
   ]
  },
  {
   "cell_type": "code",
   "execution_count": 4,
   "metadata": {},
   "outputs": [
    {
     "data": {
      "text/plain": [
       "6×6 Array{Float64,2}:\n",
       " -0.651628  -0.482565  -0.705652  -0.355389  -0.879925   -0.700237\n",
       "  0.611103   0.618275   0.660996   0.160847   0.409138    0.799763\n",
       " -0.772449  -0.748267  -0.871555  -0.898968  -0.918987   -0.200237\n",
       "  0.589116   0.716795   0.848698   0.900349   0.237263    0.799763\n",
       " -0.260389  -0.277687  -0.952892  -0.307659  -0.0752373  -0.200237\n",
       "  0.59456    0.288844   0.349018   0.827106   0.549763    0.799763"
      ]
     },
     "metadata": {},
     "output_type": "display_data"
    }
   ],
   "source": [
    "n = 6\n",
    "A = zeros(n,n)\n",
    "state = 2018\n",
    "\n",
    "for j = 1:n\n",
    "    for i = 1:n\n",
    "        state = simple_rand(state)\n",
    "        A[i,j] = state / 2^32\n",
    "    end\n",
    "end\n",
    "\n",
    "display(A)"
   ]
  },
  {
   "cell_type": "code",
   "execution_count": 5,
   "metadata": {},
   "outputs": [
    {
     "data": {
      "text/plain": [
       "6×6 Array{Float64,2}:\n",
       "  6.94971    6.08415   -2.45942    -5.89024    -2.19161    4.72647\n",
       " -1.42857   -0.658267  -0.143833    2.92574     2.24247   -2.99282\n",
       " -0.777332  -0.626518   0.389444    0.0283801  -1.35837   -0.325052\n",
       " -0.187689  -1.47181   -0.0464306   1.05975     0.210123   0.288708\n",
       " -3.36434   -2.3542     0.457706    1.203       0.98636   -1.43292\n",
       " -1.80461   -0.871507   1.44377     1.38694     0.516852  -0.354212"
      ]
     },
     "metadata": {},
     "output_type": "display_data"
    }
   ],
   "source": [
    "x = zeros(n,1)\n",
    "y = zeros(n,1)\n",
    "identity = zeros(n,n)\n",
    "for i = 1:n\n",
    "    identity[i,i] = 1\n",
    "end\n",
    "\n",
    "for i = 1:n\n",
    "    x = A[:,i]\n",
    "    for j = 1:n\n",
    "        if j!= i\n",
    "            y[j] = x[j]/x[i]\n",
    "        else\n",
    "            y[j] = 1 - 1/x[i]\n",
    "        end\n",
    "    end\n",
    "    e_i = zeros(n,1)\n",
    "    e_i[i] = 1\n",
    "    N = identity - y*transpose(e_i)\n",
    "    \n",
    "    A = N*A\n",
    "    A[:,i] = N*e_i\n",
    "end\n",
    "\n",
    "display(A)"
   ]
  },
  {
   "cell_type": "markdown",
   "metadata": {},
   "source": [
    "#### Power Iteration (pseudo)"
   ]
  },
  {
   "cell_type": "code",
   "execution_count": null,
   "metadata": {},
   "outputs": [],
   "source": [
    "while not_converged\n",
    "    zk = A*qk\n",
    "    eval = dot(zk,qk)\n",
    "    qk = zk / norm(zk)\n",
    "end"
   ]
  },
  {
   "cell_type": "markdown",
   "metadata": {},
   "source": [
    "#### Inverse Iteration (pseudo)"
   ]
  },
  {
   "cell_type": "code",
   "execution_count": null,
   "metadata": {},
   "outputs": [],
   "source": [
    "while not_converged\n",
    "    zk = (A - mu * I) \\ qk\n",
    "    qk = zk / norm(zk)\n",
    "    eval = dot(qk, A*qk)\n",
    "end"
   ]
  },
  {
   "cell_type": "markdown",
   "metadata": {},
   "source": [
    "#### Orthogonal iteration (pseudo)"
   ]
  },
  {
   "cell_type": "code",
   "execution_count": null,
   "metadata": {},
   "outputs": [],
   "source": [
    "while not_converged\n",
    "    Qk = A*Qk\n",
    "    Qk,Rk = qr(Qk)\n",
    "end"
   ]
  },
  {
   "cell_type": "markdown",
   "metadata": {},
   "source": [
    "#### QR with shift (pseudo)"
   ]
  },
  {
   "cell_type": "code",
   "execution_count": null,
   "metadata": {},
   "outputs": [],
   "source": [
    "Tk = A\n",
    "while not_converged\n",
    "    mu = Tk[n,n]\n",
    "    Uk, Rk = qr(Tk - mu*I)\n",
    "    Tk = Rk * Uk + mu * I\n",
    "end"
   ]
  },
  {
   "cell_type": "code",
   "execution_count": null,
   "metadata": {},
   "outputs": [],
   "source": []
  }
 ],
 "metadata": {
  "kernelspec": {
   "display_name": "Julia 1.5.3",
   "language": "julia",
   "name": "julia-1.5"
  },
  "language_info": {
   "file_extension": ".jl",
   "mimetype": "application/julia",
   "name": "julia",
   "version": "1.5.3"
  }
 },
 "nbformat": 4,
 "nbformat_minor": 2
}
